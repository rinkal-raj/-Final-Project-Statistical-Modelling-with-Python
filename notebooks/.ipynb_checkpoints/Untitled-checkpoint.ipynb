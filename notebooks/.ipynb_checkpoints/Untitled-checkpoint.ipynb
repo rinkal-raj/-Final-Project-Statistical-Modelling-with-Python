{
 "cells": [
  {
   "cell_type": "code",
   "execution_count": 1,
   "id": "7da4c9f7",
   "metadata": {},
   "outputs": [],
   "source": [
    "import requests\n",
    "import json"
   ]
  },
  {
   "cell_type": "code",
   "execution_count": 4,
   "id": "856bdb06",
   "metadata": {},
   "outputs": [],
   "source": [
    "api_key=\"fsq3QzKFhk5774yC4PJvLIjuHBWvVq8mZyhILRJJnwpG+fc=\""
   ]
  },
  {
   "cell_type": "code",
   "execution_count": 17,
   "id": "8a6a17a6",
   "metadata": {},
   "outputs": [],
   "source": [
    "params = {'term':'Restaurants','location':'New York City'}"
   ]
  },
  {
   "cell_type": "code",
   "execution_count": 20,
   "id": "2b2653ef",
   "metadata": {},
   "outputs": [],
   "source": [
    "#Define the end point URL for the milano city bike network\n",
    "endpoint = \"https://api.foursquare.com/v3/places/search\""
   ]
  },
  {
   "cell_type": "code",
   "execution_count": 19,
   "id": "94fa07db",
   "metadata": {},
   "outputs": [],
   "source": [
    "# Create dictionary for headers\n",
    "headers = {\"Accept\": \"application/json\"}\n",
    "# Add key with our API KEY\n",
    "headers['Authorization'] = api_key"
   ]
  },
  {
   "cell_type": "code",
   "execution_count": 21,
   "id": "75e5146f",
   "metadata": {},
   "outputs": [],
   "source": [
    "result = requests.get(endpoint,params=params, headers=headers)"
   ]
  },
  {
   "cell_type": "code",
   "execution_count": 23,
   "id": "962599d3",
   "metadata": {},
   "outputs": [
    {
     "name": "stdout",
     "output_type": "stream",
     "text": [
      "{'results': [{'fsq_id': '4b671733f964a520c8392be3', 'categories': [{'id': 10024, 'name': 'Movie Theater', 'icon': {'prefix': 'https://ss3.4sqi.net/img/categories_v2/arts_entertainment/movietheater_', 'suffix': '.png'}}], 'chains': [], 'distance': 4939, 'geocodes': {'main': {'latitude': 49.828458, 'longitude': -97.112093}, 'roof': {'latitude': 49.828458, 'longitude': -97.112093}}, 'link': '/v3/places/4b671733f964a520c8392be3', 'location': {'address': \"1225 St Mary's Rd\", 'address_extended': '# 160', 'country': 'CA', 'cross_street': 'in St. Vital Shopping Centre', 'formatted_address': \"1225 St Mary's Rd (in St. Vital Shopping Centre), Winnipeg MB R2M 5E5\", 'locality': 'Winnipeg', 'postcode': 'R2M 5E5', 'region': 'MB'}, 'name': 'SilverCity', 'related_places': {'parent': {'fsq_id': '4b3bd248f964a520df7b25e3', 'name': 'St. Vital Centre'}}, 'timezone': 'America/Winnipeg'}, {'fsq_id': '4b666d83f964a52020212be3', 'categories': [{'id': 13018, 'name': 'Pub', 'icon': {'prefix': 'https://ss3.4sqi.net/img/categories_v2/nightlife/pub_', 'suffix': '.png'}}, {'id': 13065, 'name': 'Restaurant', 'icon': {'prefix': 'https://ss3.4sqi.net/img/categories_v2/food/default_', 'suffix': '.png'}}], 'chains': [], 'distance': 5796, 'geocodes': {'main': {'latitude': 49.834988, 'longitude': -97.112998}, 'roof': {'latitude': 49.834988, 'longitude': -97.112998}}, 'link': '/v3/places/4b666d83f964a52020212be3', 'location': {'address': \"1105 Saint Mary's Rd\", 'country': 'CA', 'cross_street': 'at Dakota', 'formatted_address': \"1105 Saint Mary's Rd (at Dakota), Winnipeg MB R2M 3T6\", 'locality': 'Winnipeg', 'postcode': 'R2M 3T6', 'region': 'MB'}, 'name': \"Tapp's Neighbourhood Pub\", 'related_places': {}, 'timezone': 'America/Winnipeg'}, {'fsq_id': '4b5766bff964a520dc3528e3', 'categories': [{'id': 13049, 'name': 'Diner', 'icon': {'prefix': 'https://ss3.4sqi.net/img/categories_v2/food/diner_', 'suffix': '.png'}}, {'id': 13102, 'name': 'Cantonese Restaurant', 'icon': {'prefix': 'https://ss3.4sqi.net/img/categories_v2/food/asian_', 'suffix': '.png'}}], 'chains': [], 'distance': 4991, 'geocodes': {'main': {'latitude': 49.815245, 'longitude': -97.153191}, 'roof': {'latitude': 49.815245, 'longitude': -97.153191}}, 'link': '/v3/places/4b5766bff964a520dc3528e3', 'location': {'address': '2077 Pembina Hwy', 'address_extended': '# 15', 'country': 'CA', 'cross_street': 'at Chancellor Dr.', 'formatted_address': '2077 Pembina Hwy (at Chancellor Dr.), Winnipeg MB R3T 5J9', 'locality': 'Winnipeg', 'postcode': 'R3T 5J9', 'region': 'MB'}, 'name': 'Sun Fortune Restaurant', 'related_places': {'parent': {'fsq_id': '523de1fa498edcd757559ac4', 'name': 'Pembina Village Shopping Centre'}}, 'timezone': 'America/Winnipeg'}, {'fsq_id': '4bc1134c4cdfc9b6851c9421', 'categories': [{'id': 10039, 'name': 'Music Venue', 'icon': {'prefix': 'https://ss3.4sqi.net/img/categories_v2/arts_entertainment/musicvenue_', 'suffix': '.png'}}, {'id': 13236, 'name': 'Italian Restaurant', 'icon': {'prefix': 'https://ss3.4sqi.net/img/categories_v2/food/italian_', 'suffix': '.png'}}, {'id': 13383, 'name': 'Steakhouse', 'icon': {'prefix': 'https://ss3.4sqi.net/img/categories_v2/food/steakhouse_', 'suffix': '.png'}}], 'chains': [], 'distance': 5642, 'geocodes': {'main': {'latitude': 49.823617, 'longitude': -97.151779}, 'roof': {'latitude': 49.823617, 'longitude': -97.151779}}, 'link': '/v3/places/4bc1134c4cdfc9b6851c9421', 'location': {'address': '1824 Pembina Hwy', 'country': 'CA', 'cross_street': '', 'formatted_address': '1824 Pembina Hwy, Winnipeg MB R3T 2G2', 'locality': 'Winnipeg', 'postcode': 'R3T 2G2', 'region': 'MB'}, 'name': 'Celebrations Dinner Theatre', 'related_places': {'parent': {'fsq_id': '4b44bf67f964a52002fb25e3', 'name': 'Canad Inns Destination Centre Fort Garry'}}, 'timezone': 'America/Winnipeg'}, {'fsq_id': '500eeb086de406feaec6a1e7', 'categories': [{'id': 17029, 'name': 'Convenience Store', 'icon': {'prefix': 'https://ss3.4sqi.net/img/categories_v2/shops/conveniencestore_', 'suffix': '.png'}}], 'chains': [], 'distance': 4186, 'geocodes': {'main': {'latitude': 49.820386, 'longitude': -97.114083}, 'roof': {'latitude': 49.820386, 'longitude': -97.114083}}, 'link': '/v3/places/500eeb086de406feaec6a1e7', 'location': {'address': \"1622 St Mary's Rd\", 'country': 'CA', 'formatted_address': \"1622 St Mary's Rd, Winnipeg MB R2M 3W7\", 'locality': 'Winnipeg', 'postcode': 'R2M 3W7', 'region': 'MB'}, 'name': '7-Eleven', 'related_places': {}, 'timezone': 'America/Winnipeg'}, {'fsq_id': '4d0d204ee0b98cfafce2d993', 'categories': [{'id': 17069, 'name': 'Grocery Store / Supermarket', 'icon': {'prefix': 'https://ss3.4sqi.net/img/categories_v2/shops/food_grocery_', 'suffix': '.png'}}], 'chains': [], 'distance': 4670, 'geocodes': {'main': {'latitude': 49.823588, 'longitude': -97.085319}, 'roof': {'latitude': 49.823588, 'longitude': -97.085319}}, 'link': '/v3/places/4d0d204ee0b98cfafce2d993', 'location': {'address': \"730 St Anne's Rd\", 'address_extended': 'Suite T', 'country': 'CA', 'formatted_address': \"730 St Anne's Rd, Winnipeg MB R2N 0A2\", 'locality': 'Winnipeg', 'postcode': 'R2N 0A2', 'region': 'MB'}, 'name': 'Bulk Barn', 'related_places': {}, 'timezone': 'America/Winnipeg'}, {'fsq_id': '4b925b59f964a52027f433e3', 'categories': [{'id': 13032, 'name': 'Cafes, Coffee, and Tea Houses', 'icon': {'prefix': 'https://ss3.4sqi.net/img/categories_v2/food/default_', 'suffix': '.png'}}, {'id': 13065, 'name': 'Restaurant', 'icon': {'prefix': 'https://ss3.4sqi.net/img/categories_v2/food/default_', 'suffix': '.png'}}], 'chains': [{'id': 'd5719cc0-d890-0132-61d3-7a163eb2a6fc', 'name': 'Tim Hortons'}], 'distance': 6589, 'geocodes': {'main': {'latitude': 49.834753, 'longitude': -97.14966}, 'roof': {'latitude': 49.834753, 'longitude': -97.14966}}, 'link': '/v3/places/4b925b59f964a52027f433e3', 'location': {'address': '1510 Pembina Hwy', 'country': 'CA', 'cross_street': '', 'formatted_address': '1510 Pembina Hwy, Winnipeg MB R3T 2E3', 'locality': 'Winnipeg', 'postcode': 'R3T 2E3', 'region': 'MB'}, 'name': 'Tim Hortons', 'related_places': {}, 'timezone': 'America/Winnipeg'}, {'fsq_id': '4bcf1b1bc564ef3bb640eff0', 'categories': [{'id': 17065, 'name': \"Farmers' Market\", 'icon': {'prefix': 'https://ss3.4sqi.net/img/categories_v2/shops/food_farmersmarket_', 'suffix': '.png'}}, {'id': 17067, 'name': 'Fruit and Vegetable Store', 'icon': {'prefix': 'https://ss3.4sqi.net/img/categories_v2/shops/food_grocery_', 'suffix': '.png'}}], 'chains': [], 'distance': 6218, 'geocodes': {'main': {'latitude': 49.812432, 'longitude': -97.177842}, 'roof': {'latitude': 49.812432, 'longitude': -97.177842}}, 'link': '/v3/places/4bcf1b1bc564ef3bb640eff0', 'location': {'address': '1765 Waverley Fort Gry', 'country': 'CA', 'cross_street': 'Bishop Grandin Boulevard', 'formatted_address': '1765 Waverley Fort Gry (Bishop Grandin Boulevard), Winnipeg MB R3Y 1R7', 'locality': 'Winnipeg', 'postcode': 'R3Y 1R7', 'region': 'MB'}, 'name': \"Crampton's Farm Produce Market\", 'related_places': {}, 'timezone': 'America/Winnipeg'}, {'fsq_id': '4b78ab8af964a5201edd2ee3', 'categories': [{'id': 13068, 'name': 'American Restaurant', 'icon': {'prefix': 'https://ss3.4sqi.net/img/categories_v2/food/default_', 'suffix': '.png'}}], 'chains': [], 'distance': 6631, 'geocodes': {'drop_off': {'latitude': 49.835087, 'longitude': -97.150037}, 'front_door': {'latitude': 49.835021, 'longitude': -97.149827}, 'main': {'latitude': 49.835021, 'longitude': -97.149827}, 'roof': {'latitude': 49.835187, 'longitude': -97.149654}}, 'link': '/v3/places/4b78ab8af964a5201edd2ee3', 'location': {'address': '1500 Pembina Hwy', 'country': 'CA', 'formatted_address': '1500 Pembina Hwy, Winnipeg MB R3T 2E3', 'locality': 'Winnipeg', 'postcode': 'R3T 2E3', 'region': 'MB'}, 'name': \"Tony Roma's\", 'related_places': {}, 'timezone': 'America/Winnipeg'}, {'fsq_id': '5a85faf81de76525383c7761', 'categories': [{'id': 17034, 'name': 'Discount Store', 'icon': {'prefix': 'https://ss3.4sqi.net/img/categories_v2/shops/discountstore_', 'suffix': '.png'}}], 'chains': [{'id': 'd5759e30-d890-0132-61d3-7a163eb2a6fc', 'name': 'Dollarama'}], 'distance': 4027, 'geocodes': {'main': {'latitude': 49.819249, 'longitude': -97.112334}, 'roof': {'latitude': 49.819249, 'longitude': -97.112334}}, 'link': '/v3/places/5a85faf81de76525383c7761', 'location': {'address': \"1633 St Mary's Rd\", 'address_extended': 'Vista Place', 'country': 'CA', 'cross_street': '', 'formatted_address': \"1633 St Mary's Rd, Winnipeg MB R2N 1Z3\", 'locality': 'Winnipeg', 'postcode': 'R2N 1Z3', 'region': 'MB'}, 'name': 'Dollarama', 'related_places': {}, 'timezone': 'America/Winnipeg'}], 'context': {'geo_bounds': {'circle': {'center': {'latitude': 49.7834, 'longitude': -97.1036}, 'radius': 22000}}}}\n"
     ]
    }
   ],
   "source": [
    "print(result.json())"
   ]
  },
  {
   "cell_type": "code",
   "execution_count": null,
   "id": "f2fab0f7",
   "metadata": {},
   "outputs": [],
   "source": []
  }
 ],
 "metadata": {
  "kernelspec": {
   "display_name": "firstEnv",
   "language": "python",
   "name": "firstenv"
  },
  "language_info": {
   "codemirror_mode": {
    "name": "ipython",
    "version": 3
   },
   "file_extension": ".py",
   "mimetype": "text/x-python",
   "name": "python",
   "nbconvert_exporter": "python",
   "pygments_lexer": "ipython3",
   "version": "3.10.9"
  }
 },
 "nbformat": 4,
 "nbformat_minor": 5
}
