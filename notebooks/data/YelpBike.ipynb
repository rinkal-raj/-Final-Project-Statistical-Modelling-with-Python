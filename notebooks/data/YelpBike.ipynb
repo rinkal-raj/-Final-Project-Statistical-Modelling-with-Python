{
 "cells": [
  {
   "cell_type": "code",
   "execution_count": 19,
   "id": "d6a1b20c-b3a7-4323-aea0-cf76fa1fe4ae",
   "metadata": {},
   "outputs": [],
   "source": [
    "import requests\n",
    "import json\n",
    "import os\n",
    "import pandas as pd"
   ]
  },
  {
   "cell_type": "code",
   "execution_count": 20,
   "id": "6dc53944-1a43-46e5-9312-3c88f1a1ecf9",
   "metadata": {},
   "outputs": [],
   "source": [
    "business_id = '4U9kSBLuBDU391x6bxU-YA'"
   ]
  },
  {
   "cell_type": "code",
   "execution_count": 21,
   "id": "a0c5c3b1-e227-4d79-adbe-104bf1cc6c2d",
   "metadata": {},
   "outputs": [],
   "source": [
    "api_key = os.environ[\"YELP_API_KEY\"]\n",
    "headers = {'Authorization': 'Bearer %s' % api_key}"
   ]
  },
  {
   "cell_type": "code",
   "execution_count": 22,
   "id": "10106dd2-0ca9-417e-9847-aa472196a694",
   "metadata": {},
   "outputs": [],
   "source": [
    "#Define the end point URL for the milano city bike network\n",
    "endpoint = 'https://api.yelp.com/v3/businesses/search?radius=1000'"
   ]
  },
  {
   "cell_type": "code",
   "execution_count": 39,
   "id": "9449bd4e-cfd6-480b-8e18-d5de772eaabc",
   "metadata": {},
   "outputs": [],
   "source": [
    "params = {'term':'Bike stations','location':'london'}"
   ]
  },
  {
   "cell_type": "code",
   "execution_count": 40,
   "id": "5965837a-ce6e-4092-8e90-c38e13300652",
   "metadata": {},
   "outputs": [
    {
     "name": "stdout",
     "output_type": "stream",
     "text": [
      "The status code is 200\n"
     ]
    }
   ],
   "source": [
    "req=requests.get(endpoint, params=params, headers=headers)\n",
    " # proceed only if the status code is 200\n",
    "print('The status code is {}'.format(req.status_code)) "
   ]
  },
  {
   "cell_type": "code",
   "execution_count": 41,
   "id": "09ece00d-5618-4b7a-b4cf-3f947b29f7e6",
   "metadata": {},
   "outputs": [],
   "source": [
    "# printing the text from the response \n",
    "bike_details = json.loads(req.text)"
   ]
  },
  {
   "cell_type": "code",
   "execution_count": 42,
   "id": "9284ef4b-0e81-44b9-9466-51167c2ea7d3",
   "metadata": {},
   "outputs": [
    {
     "data": {
      "text/plain": [
       "{'businesses': [{'id': 'u_-9CC5FRg-FiA72hVAZtQ',\n",
       "   'alias': 'london-bicycle-tour-co-london',\n",
       "   'name': 'London Bicycle Tour Co',\n",
       "   'image_url': 'https://s3-media1.fl.yelpcdn.com/bphoto/EidwtcDzl7cXZ1IXJkxpkg/o.jpg',\n",
       "   'is_closed': False,\n",
       "   'url': 'https://www.yelp.com/biz/london-bicycle-tour-co-london?adjust_creative=fTSM8xnDvU99-EqonN-pgw&utm_campaign=yelp_api_v3&utm_medium=api_v3_business_search&utm_source=fTSM8xnDvU99-EqonN-pgw',\n",
       "   'review_count': 19,\n",
       "   'categories': [{'alias': 'bikerentals', 'title': 'Bike Rentals'},\n",
       "    {'alias': 'biketours', 'title': 'Bike tours'},\n",
       "    {'alias': 'bikes', 'title': 'Bikes'}],\n",
       "   'rating': 4.0,\n",
       "   'coordinates': {'latitude': 51.4961682, 'longitude': -0.1119967},\n",
       "   'transactions': [],\n",
       "   'price': '££££',\n",
       "   'location': {'address1': '74 Kennington Road',\n",
       "    'address2': 'Kennington',\n",
       "    'address3': '',\n",
       "    'city': 'London',\n",
       "    'zip_code': 'SE11 6NL',\n",
       "    'country': 'GB',\n",
       "    'state': 'XGL',\n",
       "    'display_address': ['74 Kennington Road',\n",
       "     'Kennington',\n",
       "     'London SE11 6NL',\n",
       "     'United Kingdom']},\n",
       "   'phone': '+442079286838',\n",
       "   'display_phone': '+44 20 7928 6838',\n",
       "   'distance': 2486.912955215867}],\n",
       " 'total': 1,\n",
       " 'region': {'center': {'longitude': -0.135955810546875,\n",
       "   'latitude': 51.51283552118349}}}"
      ]
     },
     "execution_count": 42,
     "metadata": {},
     "output_type": "execute_result"
    }
   ],
   "source": [
    "bike_details"
   ]
  },
  {
   "cell_type": "code",
   "execution_count": 43,
   "id": "002641bb-24da-4852-93b5-ecd884971b5f",
   "metadata": {},
   "outputs": [],
   "source": [
    "# Use json_normalize() to convert JSON to DataFrame\n",
    "dict = bike_details\n",
    "df2 = pd.json_normalize(dict['businesses']) "
   ]
  },
  {
   "cell_type": "code",
   "execution_count": 28,
   "id": "4ba1ccaa-917e-43c4-9efa-0e5a227fac5f",
   "metadata": {},
   "outputs": [
    {
     "data": {
      "text/html": [
       "<div>\n",
       "<style scoped>\n",
       "    .dataframe tbody tr th:only-of-type {\n",
       "        vertical-align: middle;\n",
       "    }\n",
       "\n",
       "    .dataframe tbody tr th {\n",
       "        vertical-align: top;\n",
       "    }\n",
       "\n",
       "    .dataframe thead th {\n",
       "        text-align: right;\n",
       "    }\n",
       "</style>\n",
       "<table border=\"1\" class=\"dataframe\">\n",
       "  <thead>\n",
       "    <tr style=\"text-align: right;\">\n",
       "      <th></th>\n",
       "      <th>id</th>\n",
       "      <th>alias</th>\n",
       "      <th>name</th>\n",
       "      <th>image_url</th>\n",
       "      <th>is_closed</th>\n",
       "      <th>url</th>\n",
       "      <th>review_count</th>\n",
       "      <th>categories</th>\n",
       "      <th>rating</th>\n",
       "      <th>transactions</th>\n",
       "      <th>...</th>\n",
       "      <th>coordinates.latitude</th>\n",
       "      <th>coordinates.longitude</th>\n",
       "      <th>location.address1</th>\n",
       "      <th>location.address2</th>\n",
       "      <th>location.address3</th>\n",
       "      <th>location.city</th>\n",
       "      <th>location.zip_code</th>\n",
       "      <th>location.country</th>\n",
       "      <th>location.state</th>\n",
       "      <th>location.display_address</th>\n",
       "    </tr>\n",
       "  </thead>\n",
       "  <tbody>\n",
       "    <tr>\n",
       "      <th>0</th>\n",
       "      <td>u_-9CC5FRg-FiA72hVAZtQ</td>\n",
       "      <td>london-bicycle-tour-co-london</td>\n",
       "      <td>London Bicycle Tour Co</td>\n",
       "      <td>https://s3-media1.fl.yelpcdn.com/bphoto/Eidwtc...</td>\n",
       "      <td>False</td>\n",
       "      <td>https://www.yelp.com/biz/london-bicycle-tour-c...</td>\n",
       "      <td>19</td>\n",
       "      <td>[{'alias': 'bikerentals', 'title': 'Bike Renta...</td>\n",
       "      <td>4.0</td>\n",
       "      <td>[]</td>\n",
       "      <td>...</td>\n",
       "      <td>51.496168</td>\n",
       "      <td>-0.111997</td>\n",
       "      <td>74 Kennington Road</td>\n",
       "      <td>Kennington</td>\n",
       "      <td></td>\n",
       "      <td>London</td>\n",
       "      <td>SE11 6NL</td>\n",
       "      <td>GB</td>\n",
       "      <td>XGL</td>\n",
       "      <td>[74 Kennington Road, Kennington, London SE11 6...</td>\n",
       "    </tr>\n",
       "  </tbody>\n",
       "</table>\n",
       "<p>1 rows × 24 columns</p>\n",
       "</div>"
      ],
      "text/plain": [
       "                       id                          alias  \\\n",
       "0  u_-9CC5FRg-FiA72hVAZtQ  london-bicycle-tour-co-london   \n",
       "\n",
       "                     name                                          image_url  \\\n",
       "0  London Bicycle Tour Co  https://s3-media1.fl.yelpcdn.com/bphoto/Eidwtc...   \n",
       "\n",
       "   is_closed                                                url  review_count  \\\n",
       "0      False  https://www.yelp.com/biz/london-bicycle-tour-c...            19   \n",
       "\n",
       "                                          categories  rating transactions  \\\n",
       "0  [{'alias': 'bikerentals', 'title': 'Bike Renta...     4.0           []   \n",
       "\n",
       "   ... coordinates.latitude coordinates.longitude   location.address1  \\\n",
       "0  ...            51.496168             -0.111997  74 Kennington Road   \n",
       "\n",
       "   location.address2  location.address3  location.city location.zip_code  \\\n",
       "0         Kennington                            London          SE11 6NL   \n",
       "\n",
       "  location.country location.state  \\\n",
       "0               GB            XGL   \n",
       "\n",
       "                            location.display_address  \n",
       "0  [74 Kennington Road, Kennington, London SE11 6...  \n",
       "\n",
       "[1 rows x 24 columns]"
      ]
     },
     "execution_count": 28,
     "metadata": {},
     "output_type": "execute_result"
    }
   ],
   "source": [
    "df2"
   ]
  },
  {
   "cell_type": "code",
   "execution_count": 29,
   "id": "099cab40-b535-4ee5-8418-c6e908405fa0",
   "metadata": {},
   "outputs": [],
   "source": [
    "bike_data = pd.DataFrame(df2, columns = ['name','review_count','location.address1','rating'])"
   ]
  },
  {
   "cell_type": "code",
   "execution_count": 30,
   "id": "f1276fe5-abf8-4e8b-99ac-2ff793f4ed5e",
   "metadata": {},
   "outputs": [
    {
     "data": {
      "text/html": [
       "<div>\n",
       "<style scoped>\n",
       "    .dataframe tbody tr th:only-of-type {\n",
       "        vertical-align: middle;\n",
       "    }\n",
       "\n",
       "    .dataframe tbody tr th {\n",
       "        vertical-align: top;\n",
       "    }\n",
       "\n",
       "    .dataframe thead th {\n",
       "        text-align: right;\n",
       "    }\n",
       "</style>\n",
       "<table border=\"1\" class=\"dataframe\">\n",
       "  <thead>\n",
       "    <tr style=\"text-align: right;\">\n",
       "      <th></th>\n",
       "      <th>name</th>\n",
       "      <th>review_count</th>\n",
       "      <th>location.address1</th>\n",
       "      <th>rating</th>\n",
       "    </tr>\n",
       "  </thead>\n",
       "  <tbody>\n",
       "    <tr>\n",
       "      <th>0</th>\n",
       "      <td>London Bicycle Tour Co</td>\n",
       "      <td>19</td>\n",
       "      <td>74 Kennington Road</td>\n",
       "      <td>4.0</td>\n",
       "    </tr>\n",
       "  </tbody>\n",
       "</table>\n",
       "</div>"
      ],
      "text/plain": [
       "                     name  review_count   location.address1  rating\n",
       "0  London Bicycle Tour Co            19  74 Kennington Road     4.0"
      ]
     },
     "execution_count": 30,
     "metadata": {},
     "output_type": "execute_result"
    }
   ],
   "source": [
    "bike_data"
   ]
  },
  {
   "cell_type": "code",
   "execution_count": null,
   "id": "341c9e5a-26e4-47c8-8688-e54f0ea8eaef",
   "metadata": {},
   "outputs": [],
   "source": []
  }
 ],
 "metadata": {
  "kernelspec": {
   "display_name": "firstEnv",
   "language": "python",
   "name": "firstenv"
  },
  "language_info": {
   "codemirror_mode": {
    "name": "ipython",
    "version": 3
   },
   "file_extension": ".py",
   "mimetype": "text/x-python",
   "name": "python",
   "nbconvert_exporter": "python",
   "pygments_lexer": "ipython3",
   "version": "3.10.9"
  }
 },
 "nbformat": 4,
 "nbformat_minor": 5
}
